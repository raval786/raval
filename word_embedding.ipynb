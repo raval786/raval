{
 "cells": [
  {
   "cell_type": "code",
   "execution_count": 1,
   "metadata": {},
   "outputs": [],
   "source": [
    "import tensorflow as tf"
   ]
  },
  {
   "cell_type": "code",
   "execution_count": 2,
   "metadata": {},
   "outputs": [
    {
     "data": {
      "text/plain": [
       "'2.2.0'"
      ]
     },
     "execution_count": 2,
     "metadata": {},
     "output_type": "execute_result"
    }
   ],
   "source": [
    "tf.__version__"
   ]
  },
  {
   "cell_type": "code",
   "execution_count": 4,
   "metadata": {},
   "outputs": [],
   "source": [
    "from tensorflow.keras.preprocessing.text import one_hot"
   ]
  },
  {
   "cell_type": "code",
   "execution_count": 5,
   "metadata": {},
   "outputs": [],
   "source": [
    "# sentenses\n",
    "sent = ['Glass of milk',\n",
    "        'the glass of juice',\n",
    "        'the cup of tea',\n",
    "        'i am a good boy',\n",
    "        'i am a good devloper',\n",
    "        'understand the meaning of words',\n",
    "        'your vidoes are good']"
   ]
  },
  {
   "cell_type": "code",
   "execution_count": 6,
   "metadata": {},
   "outputs": [
    {
     "data": {
      "text/plain": [
       "['Glass of milk',\n",
       " 'the glass of juice',\n",
       " 'the cup of tea',\n",
       " 'i am a good boy',\n",
       " 'i am a good devloper',\n",
       " 'understand the meaning of words',\n",
       " 'your vidoes are good']"
      ]
     },
     "execution_count": 6,
     "metadata": {},
     "output_type": "execute_result"
    }
   ],
   "source": [
    "sent"
   ]
  },
  {
   "cell_type": "code",
   "execution_count": 7,
   "metadata": {},
   "outputs": [],
   "source": [
    "# vocabulary size\n",
    "voc_size = 100"
   ]
  },
  {
   "cell_type": "code",
   "execution_count": 8,
   "metadata": {},
   "outputs": [],
   "source": [
    "# one hot encoding\n",
    "onehot = [one_hot(word,voc_size)for word in sent]"
   ]
  },
  {
   "cell_type": "code",
   "execution_count": 9,
   "metadata": {},
   "outputs": [
    {
     "data": {
      "text/plain": [
       "[[90, 50, 43],\n",
       " [16, 90, 50, 3],\n",
       " [16, 96, 50, 40],\n",
       " [45, 51, 18, 48, 89],\n",
       " [45, 51, 18, 48, 68],\n",
       " [36, 16, 86, 50, 9],\n",
       " [53, 7, 50, 48]]"
      ]
     },
     "execution_count": 9,
     "metadata": {},
     "output_type": "execute_result"
    }
   ],
   "source": [
    "onehot"
   ]
  },
  {
   "cell_type": "markdown",
   "metadata": {},
   "source": [
    "# word embedding representation"
   ]
  },
  {
   "cell_type": "code",
   "execution_count": 11,
   "metadata": {},
   "outputs": [],
   "source": [
    "from tensorflow.keras.layers import Embedding\n",
    "from tensorflow.keras.preprocessing.sequence import pad_sequences # pad_sequences is for when we have to go for embedding layers ALL THE SENTENSES SHOULD BE IN SAME LENGTH\n",
    "from tensorflow.keras.models import Sequential\n",
    "import numpy as np"
   ]
  },
  {
   "cell_type": "code",
   "execution_count": 12,
   "metadata": {},
   "outputs": [],
   "source": [
    "sent_length = 8\n",
    "embedded_docs = pad_sequences(onehot,padding='pre',maxlen=sent_length) # padding='pre means we have 4 words on our sentence but our mmaxlen we set 8 so to trsnsform it.it puts 4 zeros before the vectoer and \n",
    "# padding='post all the remaing words after the that one hot vectoer"
   ]
  },
  {
   "cell_type": "code",
   "execution_count": 14,
   "metadata": {},
   "outputs": [
    {
     "data": {
      "text/plain": [
       "array([[ 0,  0,  0,  0,  0, 90, 50, 43],\n",
       "       [ 0,  0,  0,  0, 16, 90, 50,  3],\n",
       "       [ 0,  0,  0,  0, 16, 96, 50, 40],\n",
       "       [ 0,  0,  0, 45, 51, 18, 48, 89],\n",
       "       [ 0,  0,  0, 45, 51, 18, 48, 68],\n",
       "       [ 0,  0,  0, 36, 16, 86, 50,  9],\n",
       "       [ 0,  0,  0,  0, 53,  7, 50, 48]])"
      ]
     },
     "execution_count": 14,
     "metadata": {},
     "output_type": "execute_result"
    }
   ],
   "source": [
    "embedded_docs"
   ]
  },
  {
   "cell_type": "code",
   "execution_count": 15,
   "metadata": {},
   "outputs": [],
   "source": [
    "dim = 10"
   ]
  },
  {
   "cell_type": "markdown",
   "metadata": {},
   "source": [
    "# Embedding layer"
   ]
  },
  {
   "cell_type": "code",
   "execution_count": 17,
   "metadata": {},
   "outputs": [],
   "source": [
    "model = Sequential()\n",
    "model.add(Embedding(voc_size,10,input_length= sent_length))\n",
    "model.compile('adam', 'mse')"
   ]
  },
  {
   "cell_type": "code",
   "execution_count": 18,
   "metadata": {},
   "outputs": [
    {
     "name": "stdout",
     "output_type": "stream",
     "text": [
      "Model: \"sequential_1\"\n",
      "_________________________________________________________________\n",
      "Layer (type)                 Output Shape              Param #   \n",
      "=================================================================\n",
      "embedding_1 (Embedding)      (None, 8, 10)             1000      \n",
      "=================================================================\n",
      "Total params: 1,000\n",
      "Trainable params: 1,000\n",
      "Non-trainable params: 0\n",
      "_________________________________________________________________\n"
     ]
    }
   ],
   "source": [
    "model.summary()"
   ]
  },
  {
   "cell_type": "code",
   "execution_count": 19,
   "metadata": {},
   "outputs": [
    {
     "data": {
      "text/plain": [
       "array([[[ 3.51422466e-02,  3.42607498e-04, -4.71982472e-02,\n",
       "          4.03931625e-02, -1.37731321e-02, -3.03949006e-02,\n",
       "         -2.62477286e-02, -3.89230475e-02, -3.18932906e-02,\n",
       "          3.42894457e-02],\n",
       "        [ 3.51422466e-02,  3.42607498e-04, -4.71982472e-02,\n",
       "          4.03931625e-02, -1.37731321e-02, -3.03949006e-02,\n",
       "         -2.62477286e-02, -3.89230475e-02, -3.18932906e-02,\n",
       "          3.42894457e-02],\n",
       "        [ 3.51422466e-02,  3.42607498e-04, -4.71982472e-02,\n",
       "          4.03931625e-02, -1.37731321e-02, -3.03949006e-02,\n",
       "         -2.62477286e-02, -3.89230475e-02, -3.18932906e-02,\n",
       "          3.42894457e-02],\n",
       "        [ 3.51422466e-02,  3.42607498e-04, -4.71982472e-02,\n",
       "          4.03931625e-02, -1.37731321e-02, -3.03949006e-02,\n",
       "         -2.62477286e-02, -3.89230475e-02, -3.18932906e-02,\n",
       "          3.42894457e-02],\n",
       "        [ 3.51422466e-02,  3.42607498e-04, -4.71982472e-02,\n",
       "          4.03931625e-02, -1.37731321e-02, -3.03949006e-02,\n",
       "         -2.62477286e-02, -3.89230475e-02, -3.18932906e-02,\n",
       "          3.42894457e-02],\n",
       "        [ 4.75875996e-02,  1.40099265e-02, -3.81934755e-02,\n",
       "          2.48917192e-03, -4.15117256e-02, -3.09124589e-05,\n",
       "         -3.38121206e-02,  1.37153007e-02,  1.12203360e-02,\n",
       "         -3.23603302e-03],\n",
       "        [ 3.58602516e-02, -3.09230573e-02, -1.58985369e-02,\n",
       "          1.08966008e-02,  3.57937329e-02,  3.09336185e-03,\n",
       "         -4.39167619e-02,  1.97890140e-02,  2.71908678e-02,\n",
       "         -2.43502613e-02],\n",
       "        [-4.86466289e-02,  4.15482372e-03,  4.17355783e-02,\n",
       "          3.79244722e-02, -4.60597165e-02, -3.31773758e-02,\n",
       "         -1.22677535e-04, -1.14649758e-02, -5.61475754e-04,\n",
       "         -1.12280995e-03]],\n",
       "\n",
       "       [[ 3.51422466e-02,  3.42607498e-04, -4.71982472e-02,\n",
       "          4.03931625e-02, -1.37731321e-02, -3.03949006e-02,\n",
       "         -2.62477286e-02, -3.89230475e-02, -3.18932906e-02,\n",
       "          3.42894457e-02],\n",
       "        [ 3.51422466e-02,  3.42607498e-04, -4.71982472e-02,\n",
       "          4.03931625e-02, -1.37731321e-02, -3.03949006e-02,\n",
       "         -2.62477286e-02, -3.89230475e-02, -3.18932906e-02,\n",
       "          3.42894457e-02],\n",
       "        [ 3.51422466e-02,  3.42607498e-04, -4.71982472e-02,\n",
       "          4.03931625e-02, -1.37731321e-02, -3.03949006e-02,\n",
       "         -2.62477286e-02, -3.89230475e-02, -3.18932906e-02,\n",
       "          3.42894457e-02],\n",
       "        [ 3.51422466e-02,  3.42607498e-04, -4.71982472e-02,\n",
       "          4.03931625e-02, -1.37731321e-02, -3.03949006e-02,\n",
       "         -2.62477286e-02, -3.89230475e-02, -3.18932906e-02,\n",
       "          3.42894457e-02],\n",
       "        [ 2.21541412e-02, -3.17817330e-02, -4.13434133e-02,\n",
       "         -1.25584491e-02,  3.39160673e-02,  3.45265754e-02,\n",
       "          3.09236981e-02,  3.17847729e-03, -4.53380346e-02,\n",
       "          4.30393480e-02],\n",
       "        [ 4.75875996e-02,  1.40099265e-02, -3.81934755e-02,\n",
       "          2.48917192e-03, -4.15117256e-02, -3.09124589e-05,\n",
       "         -3.38121206e-02,  1.37153007e-02,  1.12203360e-02,\n",
       "         -3.23603302e-03],\n",
       "        [ 3.58602516e-02, -3.09230573e-02, -1.58985369e-02,\n",
       "          1.08966008e-02,  3.57937329e-02,  3.09336185e-03,\n",
       "         -4.39167619e-02,  1.97890140e-02,  2.71908678e-02,\n",
       "         -2.43502613e-02],\n",
       "        [ 4.21854109e-03,  5.78112528e-03,  3.24044377e-03,\n",
       "          1.49466284e-02,  3.12506035e-03, -2.78586280e-02,\n",
       "          1.88414939e-02, -2.97431108e-02,  1.89816393e-02,\n",
       "         -2.91083809e-02]],\n",
       "\n",
       "       [[ 3.51422466e-02,  3.42607498e-04, -4.71982472e-02,\n",
       "          4.03931625e-02, -1.37731321e-02, -3.03949006e-02,\n",
       "         -2.62477286e-02, -3.89230475e-02, -3.18932906e-02,\n",
       "          3.42894457e-02],\n",
       "        [ 3.51422466e-02,  3.42607498e-04, -4.71982472e-02,\n",
       "          4.03931625e-02, -1.37731321e-02, -3.03949006e-02,\n",
       "         -2.62477286e-02, -3.89230475e-02, -3.18932906e-02,\n",
       "          3.42894457e-02],\n",
       "        [ 3.51422466e-02,  3.42607498e-04, -4.71982472e-02,\n",
       "          4.03931625e-02, -1.37731321e-02, -3.03949006e-02,\n",
       "         -2.62477286e-02, -3.89230475e-02, -3.18932906e-02,\n",
       "          3.42894457e-02],\n",
       "        [ 3.51422466e-02,  3.42607498e-04, -4.71982472e-02,\n",
       "          4.03931625e-02, -1.37731321e-02, -3.03949006e-02,\n",
       "         -2.62477286e-02, -3.89230475e-02, -3.18932906e-02,\n",
       "          3.42894457e-02],\n",
       "        [ 2.21541412e-02, -3.17817330e-02, -4.13434133e-02,\n",
       "         -1.25584491e-02,  3.39160673e-02,  3.45265754e-02,\n",
       "          3.09236981e-02,  3.17847729e-03, -4.53380346e-02,\n",
       "          4.30393480e-02],\n",
       "        [-5.88269159e-03,  3.06518190e-02, -9.98318195e-03,\n",
       "          3.95523421e-02,  3.96655463e-02,  1.59286521e-02,\n",
       "          1.94817223e-02,  1.31538622e-02, -1.65072791e-02,\n",
       "         -1.74314752e-02],\n",
       "        [ 3.58602516e-02, -3.09230573e-02, -1.58985369e-02,\n",
       "          1.08966008e-02,  3.57937329e-02,  3.09336185e-03,\n",
       "         -4.39167619e-02,  1.97890140e-02,  2.71908678e-02,\n",
       "         -2.43502613e-02],\n",
       "        [ 7.12888315e-03, -3.41821685e-02,  4.64411266e-02,\n",
       "         -1.08709447e-02,  2.14173645e-03,  3.35257389e-02,\n",
       "          4.13098671e-02, -1.04216486e-03, -4.95364517e-03,\n",
       "          3.59342247e-03]],\n",
       "\n",
       "       [[ 3.51422466e-02,  3.42607498e-04, -4.71982472e-02,\n",
       "          4.03931625e-02, -1.37731321e-02, -3.03949006e-02,\n",
       "         -2.62477286e-02, -3.89230475e-02, -3.18932906e-02,\n",
       "          3.42894457e-02],\n",
       "        [ 3.51422466e-02,  3.42607498e-04, -4.71982472e-02,\n",
       "          4.03931625e-02, -1.37731321e-02, -3.03949006e-02,\n",
       "         -2.62477286e-02, -3.89230475e-02, -3.18932906e-02,\n",
       "          3.42894457e-02],\n",
       "        [ 3.51422466e-02,  3.42607498e-04, -4.71982472e-02,\n",
       "          4.03931625e-02, -1.37731321e-02, -3.03949006e-02,\n",
       "         -2.62477286e-02, -3.89230475e-02, -3.18932906e-02,\n",
       "          3.42894457e-02],\n",
       "        [ 2.43739970e-02,  1.32752582e-03, -1.84038505e-02,\n",
       "         -2.91484725e-02,  4.74390723e-02, -6.12908602e-03,\n",
       "         -4.60711978e-02,  2.59102248e-02,  3.09785455e-03,\n",
       "          2.37440802e-02],\n",
       "        [ 3.41185443e-02, -4.69906107e-02, -2.79097687e-02,\n",
       "          5.48205525e-03,  8.91473144e-03, -4.12246361e-02,\n",
       "         -1.31580718e-02,  2.95909904e-02,  3.73550169e-02,\n",
       "          3.29932906e-02],\n",
       "        [ 4.10952456e-02, -1.60455704e-04,  3.69657390e-02,\n",
       "         -7.12424517e-03, -3.80157307e-03, -3.08945030e-03,\n",
       "          9.70544666e-03, -2.73432266e-02, -5.39384782e-04,\n",
       "         -3.21679600e-02],\n",
       "        [-6.64607435e-03, -3.18152308e-02,  4.04207148e-02,\n",
       "         -3.22858468e-02,  3.60974409e-02, -4.08987887e-02,\n",
       "         -4.97553609e-02,  3.24679874e-02,  3.31621207e-02,\n",
       "          2.50340365e-02],\n",
       "        [ 2.52095945e-02, -4.09776457e-02,  2.38123797e-02,\n",
       "         -2.46317741e-02, -2.94374228e-02,  1.66797303e-02,\n",
       "         -4.36612852e-02, -7.97683001e-03,  4.25701030e-02,\n",
       "         -4.86299284e-02]],\n",
       "\n",
       "       [[ 3.51422466e-02,  3.42607498e-04, -4.71982472e-02,\n",
       "          4.03931625e-02, -1.37731321e-02, -3.03949006e-02,\n",
       "         -2.62477286e-02, -3.89230475e-02, -3.18932906e-02,\n",
       "          3.42894457e-02],\n",
       "        [ 3.51422466e-02,  3.42607498e-04, -4.71982472e-02,\n",
       "          4.03931625e-02, -1.37731321e-02, -3.03949006e-02,\n",
       "         -2.62477286e-02, -3.89230475e-02, -3.18932906e-02,\n",
       "          3.42894457e-02],\n",
       "        [ 3.51422466e-02,  3.42607498e-04, -4.71982472e-02,\n",
       "          4.03931625e-02, -1.37731321e-02, -3.03949006e-02,\n",
       "         -2.62477286e-02, -3.89230475e-02, -3.18932906e-02,\n",
       "          3.42894457e-02],\n",
       "        [ 2.43739970e-02,  1.32752582e-03, -1.84038505e-02,\n",
       "         -2.91484725e-02,  4.74390723e-02, -6.12908602e-03,\n",
       "         -4.60711978e-02,  2.59102248e-02,  3.09785455e-03,\n",
       "          2.37440802e-02],\n",
       "        [ 3.41185443e-02, -4.69906107e-02, -2.79097687e-02,\n",
       "          5.48205525e-03,  8.91473144e-03, -4.12246361e-02,\n",
       "         -1.31580718e-02,  2.95909904e-02,  3.73550169e-02,\n",
       "          3.29932906e-02],\n",
       "        [ 4.10952456e-02, -1.60455704e-04,  3.69657390e-02,\n",
       "         -7.12424517e-03, -3.80157307e-03, -3.08945030e-03,\n",
       "          9.70544666e-03, -2.73432266e-02, -5.39384782e-04,\n",
       "         -3.21679600e-02],\n",
       "        [-6.64607435e-03, -3.18152308e-02,  4.04207148e-02,\n",
       "         -3.22858468e-02,  3.60974409e-02, -4.08987887e-02,\n",
       "         -4.97553609e-02,  3.24679874e-02,  3.31621207e-02,\n",
       "          2.50340365e-02],\n",
       "        [ 3.50321457e-03,  4.69375588e-02,  2.19323486e-03,\n",
       "          4.18803357e-02,  2.56923921e-02, -3.18158641e-02,\n",
       "         -4.27765250e-02,  4.62032072e-02,  4.61636446e-02,\n",
       "          5.06460667e-03]],\n",
       "\n",
       "       [[ 3.51422466e-02,  3.42607498e-04, -4.71982472e-02,\n",
       "          4.03931625e-02, -1.37731321e-02, -3.03949006e-02,\n",
       "         -2.62477286e-02, -3.89230475e-02, -3.18932906e-02,\n",
       "          3.42894457e-02],\n",
       "        [ 3.51422466e-02,  3.42607498e-04, -4.71982472e-02,\n",
       "          4.03931625e-02, -1.37731321e-02, -3.03949006e-02,\n",
       "         -2.62477286e-02, -3.89230475e-02, -3.18932906e-02,\n",
       "          3.42894457e-02],\n",
       "        [ 3.51422466e-02,  3.42607498e-04, -4.71982472e-02,\n",
       "          4.03931625e-02, -1.37731321e-02, -3.03949006e-02,\n",
       "         -2.62477286e-02, -3.89230475e-02, -3.18932906e-02,\n",
       "          3.42894457e-02],\n",
       "        [ 2.89376713e-02,  2.68708207e-02,  1.03758462e-02,\n",
       "         -2.15335842e-02, -8.85417312e-03, -3.46521847e-02,\n",
       "          2.19824426e-02, -3.51427309e-02, -3.53176706e-02,\n",
       "         -3.61091718e-02],\n",
       "        [ 2.21541412e-02, -3.17817330e-02, -4.13434133e-02,\n",
       "         -1.25584491e-02,  3.39160673e-02,  3.45265754e-02,\n",
       "          3.09236981e-02,  3.17847729e-03, -4.53380346e-02,\n",
       "          4.30393480e-02],\n",
       "        [ 7.42591545e-03, -6.42430782e-03, -1.89970862e-02,\n",
       "         -4.94195111e-02, -3.06682587e-02, -3.98577675e-02,\n",
       "         -3.29918489e-02, -2.92609092e-02, -4.17551287e-02,\n",
       "          1.44739412e-02],\n",
       "        [ 3.58602516e-02, -3.09230573e-02, -1.58985369e-02,\n",
       "          1.08966008e-02,  3.57937329e-02,  3.09336185e-03,\n",
       "         -4.39167619e-02,  1.97890140e-02,  2.71908678e-02,\n",
       "         -2.43502613e-02],\n",
       "        [ 4.23104800e-02,  2.42909230e-02, -3.21137309e-02,\n",
       "          1.96371228e-03,  1.14955753e-03, -5.07428497e-03,\n",
       "         -4.18760553e-02, -4.40446846e-02,  4.21110876e-02,\n",
       "         -8.37201998e-03]],\n",
       "\n",
       "       [[ 3.51422466e-02,  3.42607498e-04, -4.71982472e-02,\n",
       "          4.03931625e-02, -1.37731321e-02, -3.03949006e-02,\n",
       "         -2.62477286e-02, -3.89230475e-02, -3.18932906e-02,\n",
       "          3.42894457e-02],\n",
       "        [ 3.51422466e-02,  3.42607498e-04, -4.71982472e-02,\n",
       "          4.03931625e-02, -1.37731321e-02, -3.03949006e-02,\n",
       "         -2.62477286e-02, -3.89230475e-02, -3.18932906e-02,\n",
       "          3.42894457e-02],\n",
       "        [ 3.51422466e-02,  3.42607498e-04, -4.71982472e-02,\n",
       "          4.03931625e-02, -1.37731321e-02, -3.03949006e-02,\n",
       "         -2.62477286e-02, -3.89230475e-02, -3.18932906e-02,\n",
       "          3.42894457e-02],\n",
       "        [ 3.51422466e-02,  3.42607498e-04, -4.71982472e-02,\n",
       "          4.03931625e-02, -1.37731321e-02, -3.03949006e-02,\n",
       "         -2.62477286e-02, -3.89230475e-02, -3.18932906e-02,\n",
       "          3.42894457e-02],\n",
       "        [-3.06206346e-02, -3.58241312e-02, -3.08829546e-03,\n",
       "          2.60831229e-02,  3.70541960e-03, -4.23370674e-03,\n",
       "         -4.67765704e-02, -1.68771967e-02, -1.11385584e-02,\n",
       "         -4.25651781e-02],\n",
       "        [-1.01032257e-02, -1.94204580e-02,  6.97239488e-03,\n",
       "         -3.04060820e-02,  4.79680337e-02, -3.07608005e-02,\n",
       "          3.96077372e-02, -2.99023520e-02, -3.94194946e-02,\n",
       "          3.62104289e-02],\n",
       "        [ 3.58602516e-02, -3.09230573e-02, -1.58985369e-02,\n",
       "          1.08966008e-02,  3.57937329e-02,  3.09336185e-03,\n",
       "         -4.39167619e-02,  1.97890140e-02,  2.71908678e-02,\n",
       "         -2.43502613e-02],\n",
       "        [-6.64607435e-03, -3.18152308e-02,  4.04207148e-02,\n",
       "         -3.22858468e-02,  3.60974409e-02, -4.08987887e-02,\n",
       "         -4.97553609e-02,  3.24679874e-02,  3.31621207e-02,\n",
       "          2.50340365e-02]]], dtype=float32)"
      ]
     },
     "execution_count": 19,
     "metadata": {},
     "output_type": "execute_result"
    }
   ],
   "source": [
    "model.predict(embedded_docs)"
   ]
  },
  {
   "cell_type": "code",
   "execution_count": 20,
   "metadata": {},
   "outputs": [
    {
     "data": {
      "text/plain": [
       "array([ 0,  0,  0,  0,  0, 90, 50, 43])"
      ]
     },
     "execution_count": 20,
     "metadata": {},
     "output_type": "execute_result"
    }
   ],
   "source": [
    "embedded_docs[0]"
   ]
  },
  {
   "cell_type": "code",
   "execution_count": 23,
   "metadata": {},
   "outputs": [
    {
     "data": {
      "text/plain": [
       "array([[ 3.51422466e-02,  3.42607498e-04, -4.71982472e-02,\n",
       "         4.03931625e-02, -1.37731321e-02, -3.03949006e-02,\n",
       "        -2.62477286e-02, -3.89230475e-02, -3.18932906e-02,\n",
       "         3.42894457e-02],\n",
       "       [ 3.51422466e-02,  3.42607498e-04, -4.71982472e-02,\n",
       "         4.03931625e-02, -1.37731321e-02, -3.03949006e-02,\n",
       "        -2.62477286e-02, -3.89230475e-02, -3.18932906e-02,\n",
       "         3.42894457e-02],\n",
       "       [ 3.51422466e-02,  3.42607498e-04, -4.71982472e-02,\n",
       "         4.03931625e-02, -1.37731321e-02, -3.03949006e-02,\n",
       "        -2.62477286e-02, -3.89230475e-02, -3.18932906e-02,\n",
       "         3.42894457e-02],\n",
       "       [ 3.51422466e-02,  3.42607498e-04, -4.71982472e-02,\n",
       "         4.03931625e-02, -1.37731321e-02, -3.03949006e-02,\n",
       "        -2.62477286e-02, -3.89230475e-02, -3.18932906e-02,\n",
       "         3.42894457e-02],\n",
       "       [ 3.51422466e-02,  3.42607498e-04, -4.71982472e-02,\n",
       "         4.03931625e-02, -1.37731321e-02, -3.03949006e-02,\n",
       "        -2.62477286e-02, -3.89230475e-02, -3.18932906e-02,\n",
       "         3.42894457e-02],\n",
       "       [ 4.75875996e-02,  1.40099265e-02, -3.81934755e-02,\n",
       "         2.48917192e-03, -4.15117256e-02, -3.09124589e-05,\n",
       "        -3.38121206e-02,  1.37153007e-02,  1.12203360e-02,\n",
       "        -3.23603302e-03],\n",
       "       [ 3.58602516e-02, -3.09230573e-02, -1.58985369e-02,\n",
       "         1.08966008e-02,  3.57937329e-02,  3.09336185e-03,\n",
       "        -4.39167619e-02,  1.97890140e-02,  2.71908678e-02,\n",
       "        -2.43502613e-02],\n",
       "       [-4.86466289e-02,  4.15482372e-03,  4.17355783e-02,\n",
       "         3.79244722e-02, -4.60597165e-02, -3.31773758e-02,\n",
       "        -1.22677535e-04, -1.14649758e-02, -5.61475754e-04,\n",
       "        -1.12280995e-03]], dtype=float32)"
      ]
     },
     "execution_count": 23,
     "metadata": {},
     "output_type": "execute_result"
    }
   ],
   "source": [
    "model.predict(embedded_docs)[0]"
   ]
  },
  {
   "cell_type": "code",
   "execution_count": 24,
   "metadata": {},
   "outputs": [
    {
     "ename": "ModuleNotFoundError",
     "evalue": "No module named 'pytorch'",
     "output_type": "error",
     "traceback": [
      "\u001b[1;31m---------------------------------------------------------------------------\u001b[0m",
      "\u001b[1;31mModuleNotFoundError\u001b[0m                       Traceback (most recent call last)",
      "\u001b[1;32m<ipython-input-24-d35c46f8d1a2>\u001b[0m in \u001b[0;36m<module>\u001b[1;34m\u001b[0m\n\u001b[1;32m----> 1\u001b[1;33m \u001b[1;32mimport\u001b[0m \u001b[0mpytorch\u001b[0m\u001b[1;33m\u001b[0m\u001b[0m\n\u001b[0m",
      "\u001b[1;31mModuleNotFoundError\u001b[0m: No module named 'pytorch'"
     ]
    }
   ],
   "source": [
    "import pytorch"
   ]
  },
  {
   "cell_type": "code",
   "execution_count": 25,
   "metadata": {},
   "outputs": [
    {
     "name": "stdout",
     "output_type": "stream",
     "text": [
      "Collecting pytorch\n",
      "  Downloading https://files.pythonhosted.org/packages/ee/67/f403d4ae6e9cd74b546ee88cccdb29b8415a9c1b3d80aebeb20c9ea91d96/pytorch-1.0.2.tar.gz\n",
      "Building wheels for collected packages: pytorch\n"
     ]
    },
    {
     "name": "stderr",
     "output_type": "stream",
     "text": [
      "  Failed building wheel for pytorch\n",
      "Command \"C:\\Users\\HP\\Anaconda3\\envs\\untitled\\python.exe -u -c \"import setuptools, tokenize;__file__='C:\\\\Users\\\\HP\\\\AppData\\\\Local\\\\Temp\\\\pip-install-qcszy362\\\\pytorch\\\\setup.py';f=getattr(tokenize, 'open', open)(__file__);code=f.read().replace('\\r\\n', '\\n');f.close();exec(compile(code, __file__, 'exec'))\" install --record C:\\Users\\HP\\AppData\\Local\\Temp\\pip-record-cua3w350\\install-record.txt --single-version-externally-managed --compile\" failed with error code 1 in C:\\Users\\HP\\AppData\\Local\\Temp\\pip-install-qcszy362\\pytorch\\\n",
      "You are using pip version 10.0.1, however version 20.2b1 is available."
     ]
    },
    {
     "name": "stdout",
     "output_type": "stream",
     "text": [
      "  Running setup.py bdist_wheel for pytorch: started\n",
      "  Running setup.py bdist_wheel for pytorch: finished with status 'error'\n",
      "  Complete output from command C:\\Users\\HP\\Anaconda3\\envs\\untitled\\python.exe -u -c \"import setuptools, tokenize;__file__='C:\\\\Users\\\\HP\\\\AppData\\\\Local\\\\Temp\\\\pip-install-qcszy362\\\\pytorch\\\\setup.py';f=getattr(tokenize, 'open', open)(__file__);code=f.read().replace('\\r\\n', '\\n');f.close();exec(compile(code, __file__, 'exec'))\" bdist_wheel -d C:\\Users\\HP\\AppData\\Local\\Temp\\pip-wheel-dh8qiu5a --python-tag cp36:\n",
      "  Traceback (most recent call last):\n",
      "    File \"<string>\", line 1, in <module>\n",
      "    File \"C:\\Users\\HP\\AppData\\Local\\Temp\\pip-install-qcszy362\\pytorch\\setup.py\", line 15, in <module>\n",
      "      raise Exception(message)\n",
      "  Exception: You tried to install \"pytorch\". The package named for PyTorch is \"torch\"\n",
      "  \n",
      "  ----------------------------------------\n",
      "  Running setup.py clean for pytorch\n",
      "Failed to build pytorch\n",
      "Installing collected packages: pytorch\n",
      "  Running setup.py install for pytorch: started\n",
      "    Running setup.py install for pytorch: finished with status 'error'\n",
      "    Complete output from command C:\\Users\\HP\\Anaconda3\\envs\\untitled\\python.exe -u -c \"import setuptools, tokenize;__file__='C:\\\\Users\\\\HP\\\\AppData\\\\Local\\\\Temp\\\\pip-install-qcszy362\\\\pytorch\\\\setup.py';f=getattr(tokenize, 'open', open)(__file__);code=f.read().replace('\\r\\n', '\\n');f.close();exec(compile(code, __file__, 'exec'))\" install --record C:\\Users\\HP\\AppData\\Local\\Temp\\pip-record-cua3w350\\install-record.txt --single-version-externally-managed --compile:\n",
      "    Traceback (most recent call last):\n",
      "      File \"<string>\", line 1, in <module>\n",
      "      File \"C:\\Users\\HP\\AppData\\Local\\Temp\\pip-install-qcszy362\\pytorch\\setup.py\", line 11, in <module>\n",
      "        raise Exception(message)\n",
      "    Exception: You tried to install \"pytorch\". The package named for PyTorch is \"torch\"\n",
      "    \n",
      "    ----------------------------------------\n"
     ]
    },
    {
     "name": "stderr",
     "output_type": "stream",
     "text": [
      "\n",
      "You should consider upgrading via the 'python -m pip install --upgrade pip' command.\n"
     ]
    }
   ],
   "source": [
    "!pip install pytorch"
   ]
  },
  {
   "cell_type": "code",
   "execution_count": 26,
   "metadata": {},
   "outputs": [
    {
     "name": "stdout",
     "output_type": "stream",
     "text": [
      "Requirement already up-to-date: pip in c:\\users\\hp\\appdata\\local\\programs\\python\\python37-32\\lib\\site-packages (20.1.1)\n"
     ]
    }
   ],
   "source": [
    "!python -m pip install --upgrade pip"
   ]
  },
  {
   "cell_type": "code",
   "execution_count": null,
   "metadata": {},
   "outputs": [],
   "source": [
    "!conda install pytorch torchvision cudatoolkit=10.2 -c pytorch"
   ]
  },
  {
   "cell_type": "code",
   "execution_count": null,
   "metadata": {},
   "outputs": [],
   "source": []
  }
 ],
 "metadata": {
  "kernelspec": {
   "display_name": "Python 3",
   "language": "python",
   "name": "python3"
  },
  "language_info": {
   "codemirror_mode": {
    "name": "ipython",
    "version": 3
   },
   "file_extension": ".py",
   "mimetype": "text/x-python",
   "name": "python",
   "nbconvert_exporter": "python",
   "pygments_lexer": "ipython3",
   "version": "3.6.6"
  }
 },
 "nbformat": 4,
 "nbformat_minor": 4
}
