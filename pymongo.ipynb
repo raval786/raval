{
 "cells": [
  {
   "cell_type": "code",
   "execution_count": 1,
   "metadata": {},
   "outputs": [],
   "source": [
    "import pymongo\n",
    "\n",
    "# establish the connection with mongodb\n",
    "client = pymongo.MongoClient('mongodb://127.0.0.1:27017/')\n",
    "\n",
    "# create database\n",
    "mydb = client['Employee']"
   ]
  },
  {
   "cell_type": "code",
   "execution_count": 2,
   "metadata": {},
   "outputs": [],
   "source": [
    "\n",
    "# create table(Collection)\n",
    "information = mydb.employeeinfo"
   ]
  },
  {
   "cell_type": "code",
   "execution_count": 3,
   "metadata": {},
   "outputs": [],
   "source": [
    "records = [{\n",
    "    \"Firstname\":\"ABC\",\n",
    "    \"Lastname\":\"DSF\",\n",
    "    \"department\":\"AIC\",\n",
    "    \"age\":27\n",
    "    },\n",
    "    {\n",
    "    \"Firstname\":\"ASDA2\",\n",
    "    \"Lastname\":\"VVVV2\",\n",
    "    \"departm/ent\":\"AISS2\",\n",
    "    \"age\":21\n",
    "    },\n",
    "    {\n",
    "    \"Firstname\":\"ravalSSSD1\",\n",
    "    \"Lastname\":\"sahilSDSD1\",\n",
    "    \"department\":\"AISCS1\",\n",
    "    \"age\":25\n",
    "    }]"
   ]
  },
  {
   "cell_type": "code",
   "execution_count": 4,
   "metadata": {},
   "outputs": [
    {
     "name": "stderr",
     "output_type": "stream",
     "text": [
      "C:\\Users\\HP\\Anaconda3\\lib\\site-packages\\ipykernel_launcher.py:2: DeprecationWarning: insert is deprecated. Use insert_one or insert_many instead.\n",
      "  \n"
     ]
    },
    {
     "data": {
      "text/plain": [
       "[ObjectId('5ee785bc8508fcc1167d4394'),\n",
       " ObjectId('5ee785bc8508fcc1167d4395'),\n",
       " ObjectId('5ee785bc8508fcc1167d4396')]"
      ]
     },
     "execution_count": 4,
     "metadata": {},
     "output_type": "execute_result"
    }
   ],
   "source": [
    "# insert the data into collection\n",
    "information.insert(records)"
   ]
  },
  {
   "cell_type": "code",
   "execution_count": 5,
   "metadata": {},
   "outputs": [
    {
     "data": {
      "text/plain": [
       "{'_id': ObjectId('5ee772db351cf5b2dda65245'),\n",
       " 'Firstname': 'raval',\n",
       " 'Lastname': 'sahil',\n",
       " 'department': 'AI'}"
      ]
     },
     "execution_count": 5,
     "metadata": {},
     "output_type": "execute_result"
    }
   ],
   "source": [
    "# simple query with employeeinfo collection\n",
    "# find top 1 record\n",
    "information.find_one()"
   ]
  },
  {
   "cell_type": "code",
   "execution_count": 6,
   "metadata": {},
   "outputs": [
    {
     "name": "stdout",
     "output_type": "stream",
     "text": [
      "{'_id': ObjectId('5ee772db351cf5b2dda65245'), 'Firstname': 'raval', 'Lastname': 'sahil', 'department': 'AI'}\n",
      "{'_id': ObjectId('5ee7738e351cf5b2dda65246'), 'Firstname': 'raval', 'Lastname': 'sahil', 'department': 'AI'}\n",
      "{'_id': ObjectId('5ee7738e351cf5b2dda65247'), 'Firstname': 'raval2', 'Lastname': 'sahil2', 'department': 'AI2'}\n",
      "{'_id': ObjectId('5ee7738e351cf5b2dda65248'), 'Firstname': 'raval1', 'Lastname': 'sahil1', 'department': 'AI1'}\n",
      "{'_id': ObjectId('5ee78010f9ce145b85bfd657'), 'Firstname': 'ABC', 'Lastname': 'DSF', 'department': 'AIC'}\n",
      "{'_id': ObjectId('5ee78010f9ce145b85bfd658'), 'Firstname': 'ASDA2', 'Lastname': 'VVVV2', 'department': 'AISS2'}\n",
      "{'_id': ObjectId('5ee78010f9ce145b85bfd659'), 'Firstname': 'ravalSSSD1', 'Lastname': 'sahilSDSD1', 'department': 'AISCS1'}\n",
      "{'_id': ObjectId('5ee7839af9ce145b85bfd65a'), 'Firstname': 'ABC', 'Lastname': 'DSF', 'department': 'AIC', 'age': 27}\n",
      "{'_id': ObjectId('5ee7839af9ce145b85bfd65b'), 'Firstname': 'ASDA2', 'Lastname': 'VVVV2', 'departm/ent': 'AISS2', 'age': 21}\n",
      "{'_id': ObjectId('5ee7839af9ce145b85bfd65c'), 'Firstname': 'ravalSSSD1', 'Lastname': 'sahilSDSD1', 'department': 'AISCS1', 'age': 25}\n",
      "{'_id': ObjectId('5ee785bc8508fcc1167d4394'), 'Firstname': 'ABC', 'Lastname': 'DSF', 'department': 'AIC', 'age': 27}\n",
      "{'_id': ObjectId('5ee785bc8508fcc1167d4395'), 'Firstname': 'ASDA2', 'Lastname': 'VVVV2', 'departm/ent': 'AISS2', 'age': 21}\n",
      "{'_id': ObjectId('5ee785bc8508fcc1167d4396'), 'Firstname': 'ravalSSSD1', 'Lastname': 'sahilSDSD1', 'department': 'AISCS1', 'age': 25}\n"
     ]
    }
   ],
   "source": [
    "# select * from employeeinfo\n",
    "for record in information.find():\n",
    "    print(record)"
   ]
  },
  {
   "cell_type": "code",
   "execution_count": 7,
   "metadata": {},
   "outputs": [
    {
     "name": "stdout",
     "output_type": "stream",
     "text": [
      "{'_id': ObjectId('5ee772db351cf5b2dda65245'), 'Firstname': 'raval', 'Lastname': 'sahil', 'department': 'AI'}\n",
      "{'_id': ObjectId('5ee7738e351cf5b2dda65246'), 'Firstname': 'raval', 'Lastname': 'sahil', 'department': 'AI'}\n"
     ]
    }
   ],
   "source": [
    "# select * from employeeinfo where Firstname = \"raval\"\n",
    "for record in information.find({\"Firstname\":\"raval\"}):\n",
    "    print(record)"
   ]
  },
  {
   "cell_type": "code",
   "execution_count": 13,
   "metadata": {},
   "outputs": [
    {
     "name": "stdout",
     "output_type": "stream",
     "text": [
      "{'_id': ObjectId('5ee78010f9ce145b85bfd657'), 'Firstname': 'ABC', 'Lastname': 'DSF', 'department': 'AIC'}\n",
      "{'_id': ObjectId('5ee7839af9ce145b85bfd65a'), 'Firstname': 'ABC', 'Lastname': 'DSF', 'department': 'AIC', 'age': 27}\n",
      "{'_id': ObjectId('5ee785bc8508fcc1167d4394'), 'Firstname': 'ABC', 'Lastname': 'DSF', 'department': 'AIC', 'age': 27}\n"
     ]
    }
   ],
   "source": [
    "# in the record\n",
    "for record in information.find({\"Lastname\":{'$in':[\"raval\",'DSF']} }):\n",
    "    print(record)"
   ]
  },
  {
   "cell_type": "code",
   "execution_count": 14,
   "metadata": {},
   "outputs": [
    {
     "name": "stdout",
     "output_type": "stream",
     "text": [
      "{'_id': ObjectId('5ee7839af9ce145b85bfd65b'), 'Firstname': 'ASDA2', 'Lastname': 'VVVV2', 'departm/ent': 'AISS2', 'age': 21}\n",
      "{'_id': ObjectId('5ee785bc8508fcc1167d4395'), 'Firstname': 'ASDA2', 'Lastname': 'VVVV2', 'departm/ent': 'AISS2', 'age': 21}\n"
     ]
    }
   ],
   "source": [
    "# lt is less then (<)\n",
    "for record in information.find({\"age\":{'$lt':25} }):\n",
    "    print(record)"
   ]
  },
  {
   "cell_type": "code",
   "execution_count": 15,
   "metadata": {},
   "outputs": [
    {
     "name": "stdout",
     "output_type": "stream",
     "text": [
      "{'_id': ObjectId('5ee7839af9ce145b85bfd65b'), 'Firstname': 'ASDA2', 'Lastname': 'VVVV2', 'departm/ent': 'AISS2', 'age': 21}\n",
      "{'_id': ObjectId('5ee7839af9ce145b85bfd65c'), 'Firstname': 'ravalSSSD1', 'Lastname': 'sahilSDSD1', 'department': 'AISCS1', 'age': 25}\n",
      "{'_id': ObjectId('5ee785bc8508fcc1167d4395'), 'Firstname': 'ASDA2', 'Lastname': 'VVVV2', 'departm/ent': 'AISS2', 'age': 21}\n",
      "{'_id': ObjectId('5ee785bc8508fcc1167d4396'), 'Firstname': 'ravalSSSD1', 'Lastname': 'sahilSDSD1', 'department': 'AISCS1', 'age': 25}\n"
     ]
    }
   ],
   "source": [
    "# lte is less then (<=)\n",
    "for record in information.find({\"age\":{'$lte':25} }):\n",
    "    print(record)"
   ]
  },
  {
   "cell_type": "code",
   "execution_count": 16,
   "metadata": {},
   "outputs": [
    {
     "name": "stdout",
     "output_type": "stream",
     "text": [
      "{'_id': ObjectId('5ee7839af9ce145b85bfd65a'), 'Firstname': 'ABC', 'Lastname': 'DSF', 'department': 'AIC', 'age': 27}\n",
      "{'_id': ObjectId('5ee785bc8508fcc1167d4394'), 'Firstname': 'ABC', 'Lastname': 'DSF', 'department': 'AIC', 'age': 27}\n"
     ]
    }
   ],
   "source": [
    "# gt is grater then (>)\n",
    "for record in information.find({\"age\":{'$gt':25} }):\n",
    "    print(record)"
   ]
  },
  {
   "cell_type": "code",
   "execution_count": 18,
   "metadata": {},
   "outputs": [
    {
     "name": "stdout",
     "output_type": "stream",
     "text": [
      "{'_id': ObjectId('5ee7839af9ce145b85bfd65a'), 'Firstname': 'ABC', 'Lastname': 'DSF', 'department': 'AIC', 'age': 27}\n",
      "{'_id': ObjectId('5ee7839af9ce145b85bfd65c'), 'Firstname': 'ravalSSSD1', 'Lastname': 'sahilSDSD1', 'department': 'AISCS1', 'age': 25}\n",
      "{'_id': ObjectId('5ee785bc8508fcc1167d4394'), 'Firstname': 'ABC', 'Lastname': 'DSF', 'department': 'AIC', 'age': 27}\n",
      "{'_id': ObjectId('5ee785bc8508fcc1167d4396'), 'Firstname': 'ravalSSSD1', 'Lastname': 'sahilSDSD1', 'department': 'AISCS1', 'age': 25}\n"
     ]
    }
   ],
   "source": [
    "# gte is grater then or equal to (=>)\n",
    "for record in information.find({\"age\":{'$gte':25} }):\n",
    "    print(record)"
   ]
  },
  {
   "cell_type": "code",
   "execution_count": 19,
   "metadata": {},
   "outputs": [
    {
     "name": "stdout",
     "output_type": "stream",
     "text": [
      "{'_id': ObjectId('5ee7839af9ce145b85bfd65a'), 'Firstname': 'ABC', 'Lastname': 'DSF', 'department': 'AIC', 'age': 27}\n",
      "{'_id': ObjectId('5ee7839af9ce145b85bfd65c'), 'Firstname': 'ravalSSSD1', 'Lastname': 'sahilSDSD1', 'department': 'AISCS1', 'age': 25}\n",
      "{'_id': ObjectId('5ee785bc8508fcc1167d4394'), 'Firstname': 'ABC', 'Lastname': 'DSF', 'department': 'AIC', 'age': 27}\n",
      "{'_id': ObjectId('5ee785bc8508fcc1167d4396'), 'Firstname': 'ravalSSSD1', 'Lastname': 'sahilSDSD1', 'department': 'AISCS1', 'age': 25}\n"
     ]
    }
   ],
   "source": [
    "# double condition\n",
    "for record in information.find({'$or':[ {\"age\" : {'$gt':21} }, {\"Firstname\": \"sahil\"} ]} ):\n",
    "    print(record)"
   ]
  },
  {
   "cell_type": "code",
   "execution_count": 25,
   "metadata": {},
   "outputs": [],
   "source": [
    "import pandas as pd\n",
    "pd = pd.DataFrame(list(information.find()))\n"
   ]
  },
  {
   "cell_type": "code",
   "execution_count": 21,
   "metadata": {},
   "outputs": [
    {
     "data": {
      "text/html": [
       "<div>\n",
       "<style scoped>\n",
       "    .dataframe tbody tr th:only-of-type {\n",
       "        vertical-align: middle;\n",
       "    }\n",
       "\n",
       "    .dataframe tbody tr th {\n",
       "        vertical-align: top;\n",
       "    }\n",
       "\n",
       "    .dataframe thead th {\n",
       "        text-align: right;\n",
       "    }\n",
       "</style>\n",
       "<table border=\"1\" class=\"dataframe\">\n",
       "  <thead>\n",
       "    <tr style=\"text-align: right;\">\n",
       "      <th></th>\n",
       "      <th>Firstname</th>\n",
       "      <th>Lastname</th>\n",
       "      <th>_id</th>\n",
       "      <th>age</th>\n",
       "      <th>departm/ent</th>\n",
       "      <th>department</th>\n",
       "    </tr>\n",
       "  </thead>\n",
       "  <tbody>\n",
       "    <tr>\n",
       "      <th>0</th>\n",
       "      <td>raval</td>\n",
       "      <td>sahil</td>\n",
       "      <td>5ee772db351cf5b2dda65245</td>\n",
       "      <td>NaN</td>\n",
       "      <td>NaN</td>\n",
       "      <td>AI</td>\n",
       "    </tr>\n",
       "    <tr>\n",
       "      <th>1</th>\n",
       "      <td>raval</td>\n",
       "      <td>sahil</td>\n",
       "      <td>5ee7738e351cf5b2dda65246</td>\n",
       "      <td>NaN</td>\n",
       "      <td>NaN</td>\n",
       "      <td>AI</td>\n",
       "    </tr>\n",
       "    <tr>\n",
       "      <th>2</th>\n",
       "      <td>raval2</td>\n",
       "      <td>sahil2</td>\n",
       "      <td>5ee7738e351cf5b2dda65247</td>\n",
       "      <td>NaN</td>\n",
       "      <td>NaN</td>\n",
       "      <td>AI2</td>\n",
       "    </tr>\n",
       "    <tr>\n",
       "      <th>3</th>\n",
       "      <td>raval1</td>\n",
       "      <td>sahil1</td>\n",
       "      <td>5ee7738e351cf5b2dda65248</td>\n",
       "      <td>NaN</td>\n",
       "      <td>NaN</td>\n",
       "      <td>AI1</td>\n",
       "    </tr>\n",
       "    <tr>\n",
       "      <th>4</th>\n",
       "      <td>ABC</td>\n",
       "      <td>DSF</td>\n",
       "      <td>5ee78010f9ce145b85bfd657</td>\n",
       "      <td>NaN</td>\n",
       "      <td>NaN</td>\n",
       "      <td>AIC</td>\n",
       "    </tr>\n",
       "    <tr>\n",
       "      <th>5</th>\n",
       "      <td>ASDA2</td>\n",
       "      <td>VVVV2</td>\n",
       "      <td>5ee78010f9ce145b85bfd658</td>\n",
       "      <td>NaN</td>\n",
       "      <td>NaN</td>\n",
       "      <td>AISS2</td>\n",
       "    </tr>\n",
       "    <tr>\n",
       "      <th>6</th>\n",
       "      <td>ravalSSSD1</td>\n",
       "      <td>sahilSDSD1</td>\n",
       "      <td>5ee78010f9ce145b85bfd659</td>\n",
       "      <td>NaN</td>\n",
       "      <td>NaN</td>\n",
       "      <td>AISCS1</td>\n",
       "    </tr>\n",
       "    <tr>\n",
       "      <th>7</th>\n",
       "      <td>ABC</td>\n",
       "      <td>DSF</td>\n",
       "      <td>5ee7839af9ce145b85bfd65a</td>\n",
       "      <td>27.0</td>\n",
       "      <td>NaN</td>\n",
       "      <td>AIC</td>\n",
       "    </tr>\n",
       "    <tr>\n",
       "      <th>8</th>\n",
       "      <td>ASDA2</td>\n",
       "      <td>VVVV2</td>\n",
       "      <td>5ee7839af9ce145b85bfd65b</td>\n",
       "      <td>21.0</td>\n",
       "      <td>AISS2</td>\n",
       "      <td>NaN</td>\n",
       "    </tr>\n",
       "    <tr>\n",
       "      <th>9</th>\n",
       "      <td>ravalSSSD1</td>\n",
       "      <td>sahilSDSD1</td>\n",
       "      <td>5ee7839af9ce145b85bfd65c</td>\n",
       "      <td>25.0</td>\n",
       "      <td>NaN</td>\n",
       "      <td>AISCS1</td>\n",
       "    </tr>\n",
       "    <tr>\n",
       "      <th>10</th>\n",
       "      <td>ABC</td>\n",
       "      <td>DSF</td>\n",
       "      <td>5ee785bc8508fcc1167d4394</td>\n",
       "      <td>27.0</td>\n",
       "      <td>NaN</td>\n",
       "      <td>AIC</td>\n",
       "    </tr>\n",
       "    <tr>\n",
       "      <th>11</th>\n",
       "      <td>ASDA2</td>\n",
       "      <td>VVVV2</td>\n",
       "      <td>5ee785bc8508fcc1167d4395</td>\n",
       "      <td>21.0</td>\n",
       "      <td>AISS2</td>\n",
       "      <td>NaN</td>\n",
       "    </tr>\n",
       "    <tr>\n",
       "      <th>12</th>\n",
       "      <td>ravalSSSD1</td>\n",
       "      <td>sahilSDSD1</td>\n",
       "      <td>5ee785bc8508fcc1167d4396</td>\n",
       "      <td>25.0</td>\n",
       "      <td>NaN</td>\n",
       "      <td>AISCS1</td>\n",
       "    </tr>\n",
       "  </tbody>\n",
       "</table>\n",
       "</div>"
      ],
      "text/plain": [
       "     Firstname    Lastname                       _id   age departm/ent  \\\n",
       "0        raval       sahil  5ee772db351cf5b2dda65245   NaN         NaN   \n",
       "1        raval       sahil  5ee7738e351cf5b2dda65246   NaN         NaN   \n",
       "2       raval2      sahil2  5ee7738e351cf5b2dda65247   NaN         NaN   \n",
       "3       raval1      sahil1  5ee7738e351cf5b2dda65248   NaN         NaN   \n",
       "4          ABC         DSF  5ee78010f9ce145b85bfd657   NaN         NaN   \n",
       "5        ASDA2       VVVV2  5ee78010f9ce145b85bfd658   NaN         NaN   \n",
       "6   ravalSSSD1  sahilSDSD1  5ee78010f9ce145b85bfd659   NaN         NaN   \n",
       "7          ABC         DSF  5ee7839af9ce145b85bfd65a  27.0         NaN   \n",
       "8        ASDA2       VVVV2  5ee7839af9ce145b85bfd65b  21.0       AISS2   \n",
       "9   ravalSSSD1  sahilSDSD1  5ee7839af9ce145b85bfd65c  25.0         NaN   \n",
       "10         ABC         DSF  5ee785bc8508fcc1167d4394  27.0         NaN   \n",
       "11       ASDA2       VVVV2  5ee785bc8508fcc1167d4395  21.0       AISS2   \n",
       "12  ravalSSSD1  sahilSDSD1  5ee785bc8508fcc1167d4396  25.0         NaN   \n",
       "\n",
       "   department  \n",
       "0          AI  \n",
       "1          AI  \n",
       "2         AI2  \n",
       "3         AI1  \n",
       "4         AIC  \n",
       "5       AISS2  \n",
       "6      AISCS1  \n",
       "7         AIC  \n",
       "8         NaN  \n",
       "9      AISCS1  \n",
       "10        AIC  \n",
       "11        NaN  \n",
       "12     AISCS1  "
      ]
     },
     "execution_count": 21,
     "metadata": {},
     "output_type": "execute_result"
    }
   ],
   "source": [
    "pd"
   ]
  },
  {
   "cell_type": "code",
   "execution_count": null,
   "metadata": {},
   "outputs": [],
   "source": []
  },
  {
   "cell_type": "code",
   "execution_count": null,
   "metadata": {},
   "outputs": [],
   "source": []
  }
 ],
 "metadata": {
  "kernelspec": {
   "display_name": "Python 3",
   "language": "python",
   "name": "python3"
  },
  "language_info": {
   "codemirror_mode": {
    "name": "ipython",
    "version": 3
   },
   "file_extension": ".py",
   "mimetype": "text/x-python",
   "name": "python",
   "nbconvert_exporter": "python",
   "pygments_lexer": "ipython3",
   "version": "3.6.5"
  }
 },
 "nbformat": 4,
 "nbformat_minor": 2
}
